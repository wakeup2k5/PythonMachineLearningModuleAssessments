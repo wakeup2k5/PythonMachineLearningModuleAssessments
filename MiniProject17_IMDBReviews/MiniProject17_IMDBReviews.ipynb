{
 "cells": [
  {
   "cell_type": "markdown",
   "metadata": {},
   "source": [
    "# Read the Dataset\n",
    "To use the dataset from Keras datasets, use these lines of code:"
   ]
  },
  {
   "cell_type": "code",
   "execution_count": 1,
   "metadata": {},
   "outputs": [
    {
     "name": "stdout",
     "output_type": "stream",
     "text": [
      "Downloading data from https://storage.googleapis.com/tensorflow/tf-keras-datasets/imdb.npz\n",
      "\u001b[1m17464789/17464789\u001b[0m \u001b[32m━━━━━━━━━━━━━━━━━━━━\u001b[0m\u001b[37m\u001b[0m \u001b[1m1s\u001b[0m 0us/step\n"
     ]
    }
   ],
   "source": [
    "import numpy as np\n",
    "np.load.__defaults__=(None, True, True, 'ASCII')\n",
    "from keras.datasets import imdb\n",
    "\n",
    "(x_train, y_train), (x_test, y_test) = imdb.load_data(path=\"imdb.npz\", maxlen=130, num_words=6000)"
   ]
  },
  {
   "cell_type": "markdown",
   "metadata": {},
   "source": [
    "# Padding Your Sequences\n",
    "You need to have equal sequences for training; for, this you will apply padding.\n",
    "\n",
    "Write these lines of code to implement the padding needed:"
   ]
  },
  {
   "cell_type": "code",
   "execution_count": 2,
   "metadata": {},
   "outputs": [],
   "source": [
    "from tensorflow.keras.preprocessing import sequence\n",
    "\n",
    "x_train = sequence.pad_sequences(x_train, maxlen=130)      "
   ]
  },
  {
   "cell_type": "markdown",
   "metadata": {},
   "source": [
    "# Build the RNN Network\n",
    "Define an RNN with the following layers:\n",
    "\n",
    "- An embedding layer with the following parameters:\n",
    "    -  The input dimension is 6000.\n",
    "    - The output dimension is 128.\n",
    "    - The input length is 130.\n",
    "- An LSTM layer with 32 units.\n",
    "- A fully connected layer with the following parameters:\n",
    "    - Activation function is ReLU.\n",
    "    - The number of units is 20.\n",
    "- A dropout layer with a dropout rate of 5%.\n",
    "- A fully connected layer with the following parameters:\n",
    "    - Activation function is sigmoid.\n",
    "    - The number of units is one."
   ]
  },
  {
   "cell_type": "code",
   "execution_count": 3,
   "metadata": {},
   "outputs": [
    {
     "name": "stderr",
     "output_type": "stream",
     "text": [
      "c:\\Users\\jcollins\\.conda\\envs\\wcs_python_310\\lib\\site-packages\\keras\\src\\layers\\core\\embedding.py:90: UserWarning: Argument `input_length` is deprecated. Just remove it.\n",
      "  warnings.warn(\n"
     ]
    }
   ],
   "source": [
    "from keras.models import Sequential\n",
    "model = Sequential()\n",
    "\n",
    "from keras.layers import Embedding\n",
    "model.add(Embedding(6000, 128, input_length=130))\n",
    "\n",
    "from keras.layers import LSTM\n",
    "model.add(LSTM(32))\n",
    "\n",
    "from keras.layers import Dense\n",
    "model.add(Dense(units=20, activation='relu'))\n",
    "\n",
    "from keras.layers import Dropout\n",
    "model.add(Dropout(0.05))\n",
    "\n",
    "from keras.layers import Dense\n",
    "model.add(Dense(units=1, activation='sigmoid'))"
   ]
  },
  {
   "cell_type": "markdown",
   "metadata": {},
   "source": [
    "# Choosing Hyperparameters\n",
    "\n",
    "Build the network using the following parameters:\n",
    "- Optimizer: Adam\n",
    "- Loss function: binary_crossentropy\n",
    "- Metrics: accuracy\n",
    "- Epochs: 5\n",
    "- Batch size: 100"
   ]
  },
  {
   "cell_type": "code",
   "execution_count": 4,
   "metadata": {},
   "outputs": [
    {
     "name": "stdout",
     "output_type": "stream",
     "text": [
      "Epoch 1/5\n",
      "\u001b[1m1234/1234\u001b[0m \u001b[32m━━━━━━━━━━━━━━━━━━━━\u001b[0m\u001b[37m\u001b[0m \u001b[1m23s\u001b[0m 17ms/step - accuracy: 0.6741 - loss: 0.5937\n",
      "Epoch 2/5\n",
      "\u001b[1m1234/1234\u001b[0m \u001b[32m━━━━━━━━━━━━━━━━━━━━\u001b[0m\u001b[37m\u001b[0m \u001b[1m19s\u001b[0m 15ms/step - accuracy: 0.8647 - loss: 0.3230\n",
      "Epoch 3/5\n",
      "\u001b[1m1234/1234\u001b[0m \u001b[32m━━━━━━━━━━━━━━━━━━━━\u001b[0m\u001b[37m\u001b[0m \u001b[1m18s\u001b[0m 15ms/step - accuracy: 0.9290 - loss: 0.1751\n",
      "Epoch 4/5\n",
      "\u001b[1m1234/1234\u001b[0m \u001b[32m━━━━━━━━━━━━━━━━━━━━\u001b[0m\u001b[37m\u001b[0m \u001b[1m19s\u001b[0m 15ms/step - accuracy: 0.9628 - loss: 0.1065\n",
      "Epoch 5/5\n",
      "\u001b[1m1234/1234\u001b[0m \u001b[32m━━━━━━━━━━━━━━━━━━━━\u001b[0m\u001b[37m\u001b[0m \u001b[1m19s\u001b[0m 15ms/step - accuracy: 0.9829 - loss: 0.0571\n"
     ]
    },
    {
     "data": {
      "text/plain": [
       "<Sequential name=sequential, built=True>"
      ]
     },
     "execution_count": 4,
     "metadata": {},
     "output_type": "execute_result"
    }
   ],
   "source": [
    "model.compile(optimizer='adam', loss='binary_crossentropy', metrics=['accuracy'])\n",
    "\n",
    "def fitModel():\n",
    "    model.fit(x_train, y_train, epochs=5, batch_size=5)\n",
    "    return model\n",
    "\n",
    "fitModel()"
   ]
  }
 ],
 "metadata": {
  "kernelspec": {
   "display_name": "wcs_python_310",
   "language": "python",
   "name": "python3"
  },
  "language_info": {
   "codemirror_mode": {
    "name": "ipython",
    "version": 3
   },
   "file_extension": ".py",
   "mimetype": "text/x-python",
   "name": "python",
   "nbconvert_exporter": "python",
   "pygments_lexer": "ipython3",
   "version": "3.10.16"
  }
 },
 "nbformat": 4,
 "nbformat_minor": 2
}
