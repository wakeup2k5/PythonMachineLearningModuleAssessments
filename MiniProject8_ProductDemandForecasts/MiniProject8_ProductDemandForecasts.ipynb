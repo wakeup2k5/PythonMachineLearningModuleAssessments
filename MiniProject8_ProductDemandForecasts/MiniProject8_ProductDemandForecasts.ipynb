{
 "cells": [
  {
   "cell_type": "markdown",
   "metadata": {},
   "source": [
    "# Download the Dataset\n",
    "\n",
    "Download the Dataset from the following link: https://www.kaggle.com/felixzhao/productdemandforecasting\n",
    "\n",
    "# Read the Dataset\n",
    "Read the dataset into a Pandas Dataframe.\n",
    "\n",
    "Does the dataset include any missing values? If so, drop them.\n",
    "\n",
    "Hint: Pandas can do that with one line of code!"
   ]
  },
  {
   "cell_type": "code",
   "execution_count": 1,
   "metadata": {},
   "outputs": [
    {
     "name": "stdout",
     "output_type": "stream",
     "text": [
      "Shape: (1048575, 5)\n",
      "Shape after dropping missing values: (1048575, 5)\n",
      "   Product_Code Warehouse Product_Category       Date Order_Demand\n",
      "0  Product_0993    Whse_J     Category_028  2012/7/27         100 \n",
      "1  Product_0979    Whse_J     Category_028  2012/1/19         500 \n",
      "2  Product_0979    Whse_J     Category_028   2012/2/3         500 \n",
      "3  Product_0979    Whse_J     Category_028   2012/2/9         500 \n",
      "4  Product_0979    Whse_J     Category_028   2012/3/2         500 \n",
      "5  Product_0979    Whse_J     Category_028  2012/4/19         500 \n",
      "6  Product_0979    Whse_J     Category_028   2012/6/5         500 \n",
      "7  Product_0979    Whse_J     Category_028  2012/6/27         500 \n",
      "8  Product_0979    Whse_J     Category_028  2012/7/23         500 \n",
      "9  Product_0979    Whse_J     Category_028  2012/8/29         500 \n"
     ]
    }
   ],
   "source": [
    "import pandas as pd\n",
    "\n",
    "df = pd.read_csv('Historical Product Demand.csv')\n",
    "\n",
    "print('Shape:', str(df.shape))\n",
    "df.dropna()\n",
    "print('Shape after dropping missing values:', str(df.shape))\n",
    "print(df.head(10))\n"
   ]
  },
  {
   "cell_type": "markdown",
   "metadata": {},
   "source": [
    "# Extract Features\n",
    "Exclude the region and date from the considered features.\n",
    "\n",
    "Hint: You can choose to use all the features."
   ]
  },
  {
   "cell_type": "code",
   "execution_count": 2,
   "metadata": {},
   "outputs": [
    {
     "data": {
      "text/html": [
       "<div>\n",
       "<style scoped>\n",
       "    .dataframe tbody tr th:only-of-type {\n",
       "        vertical-align: middle;\n",
       "    }\n",
       "\n",
       "    .dataframe tbody tr th {\n",
       "        vertical-align: top;\n",
       "    }\n",
       "\n",
       "    .dataframe thead th {\n",
       "        text-align: right;\n",
       "    }\n",
       "</style>\n",
       "<table border=\"1\" class=\"dataframe\">\n",
       "  <thead>\n",
       "    <tr style=\"text-align: right;\">\n",
       "      <th></th>\n",
       "      <th>Product_Code</th>\n",
       "      <th>Product_Category</th>\n",
       "      <th>Order_Demand</th>\n",
       "    </tr>\n",
       "  </thead>\n",
       "  <tbody>\n",
       "    <tr>\n",
       "      <th>0</th>\n",
       "      <td>Product_0993</td>\n",
       "      <td>Category_028</td>\n",
       "      <td>100</td>\n",
       "    </tr>\n",
       "    <tr>\n",
       "      <th>1</th>\n",
       "      <td>Product_0979</td>\n",
       "      <td>Category_028</td>\n",
       "      <td>500</td>\n",
       "    </tr>\n",
       "    <tr>\n",
       "      <th>2</th>\n",
       "      <td>Product_0979</td>\n",
       "      <td>Category_028</td>\n",
       "      <td>500</td>\n",
       "    </tr>\n",
       "    <tr>\n",
       "      <th>3</th>\n",
       "      <td>Product_0979</td>\n",
       "      <td>Category_028</td>\n",
       "      <td>500</td>\n",
       "    </tr>\n",
       "    <tr>\n",
       "      <th>4</th>\n",
       "      <td>Product_0979</td>\n",
       "      <td>Category_028</td>\n",
       "      <td>500</td>\n",
       "    </tr>\n",
       "    <tr>\n",
       "      <th>...</th>\n",
       "      <td>...</td>\n",
       "      <td>...</td>\n",
       "      <td>...</td>\n",
       "    </tr>\n",
       "    <tr>\n",
       "      <th>1048570</th>\n",
       "      <td>Product_1791</td>\n",
       "      <td>Category_006</td>\n",
       "      <td>1000</td>\n",
       "    </tr>\n",
       "    <tr>\n",
       "      <th>1048571</th>\n",
       "      <td>Product_1974</td>\n",
       "      <td>Category_006</td>\n",
       "      <td>1</td>\n",
       "    </tr>\n",
       "    <tr>\n",
       "      <th>1048572</th>\n",
       "      <td>Product_1787</td>\n",
       "      <td>Category_006</td>\n",
       "      <td>2500</td>\n",
       "    </tr>\n",
       "    <tr>\n",
       "      <th>1048573</th>\n",
       "      <td>Product_0901</td>\n",
       "      <td>Category_023</td>\n",
       "      <td>50</td>\n",
       "    </tr>\n",
       "    <tr>\n",
       "      <th>1048574</th>\n",
       "      <td>Product_0704</td>\n",
       "      <td>Category_001</td>\n",
       "      <td>4</td>\n",
       "    </tr>\n",
       "  </tbody>\n",
       "</table>\n",
       "<p>1048575 rows × 3 columns</p>\n",
       "</div>"
      ],
      "text/plain": [
       "         Product_Code Product_Category Order_Demand\n",
       "0        Product_0993     Category_028         100 \n",
       "1        Product_0979     Category_028         500 \n",
       "2        Product_0979     Category_028         500 \n",
       "3        Product_0979     Category_028         500 \n",
       "4        Product_0979     Category_028         500 \n",
       "...               ...              ...          ...\n",
       "1048570  Product_1791     Category_006        1000 \n",
       "1048571  Product_1974     Category_006           1 \n",
       "1048572  Product_1787     Category_006        2500 \n",
       "1048573  Product_0901     Category_023          50 \n",
       "1048574  Product_0704     Category_001           4 \n",
       "\n",
       "[1048575 rows x 3 columns]"
      ]
     },
     "execution_count": 2,
     "metadata": {},
     "output_type": "execute_result"
    }
   ],
   "source": [
    "df.drop([\"Warehouse\",\"Date\"], axis=1, inplace=True)\n",
    "\n",
    "df"
   ]
  },
  {
   "cell_type": "markdown",
   "metadata": {},
   "source": [
    "# Perform Preprocessing\n",
    "Perform any needed pre-processing on the chosen features including:\n",
    "- Scaling.\n",
    "- Encoding.\n",
    "- Dealing with Nan values.\n",
    "\n",
    "Hint: Use only the preprocessing steps you think are useful."
   ]
  },
  {
   "cell_type": "code",
   "execution_count": 3,
   "metadata": {},
   "outputs": [
    {
     "name": "stderr",
     "output_type": "stream",
     "text": [
      "<>:11: SyntaxWarning: invalid escape sequence '\\('\n",
      "<>:11: SyntaxWarning: invalid escape sequence '\\)'\n",
      "<>:11: SyntaxWarning: invalid escape sequence '\\('\n",
      "<>:11: SyntaxWarning: invalid escape sequence '\\)'\n",
      "C:\\Users\\jcollins\\AppData\\Local\\Temp\\ipykernel_40804\\2175972584.py:11: SyntaxWarning: invalid escape sequence '\\('\n",
      "  y = df[[\"Order_Demand\"]].replace({'\\(':'-', '\\)':''}, regex=True).astype(float)\n",
      "C:\\Users\\jcollins\\AppData\\Local\\Temp\\ipykernel_40804\\2175972584.py:11: SyntaxWarning: invalid escape sequence '\\)'\n",
      "  y = df[[\"Order_Demand\"]].replace({'\\(':'-', '\\)':''}, regex=True).astype(float)\n"
     ]
    },
    {
     "name": "stdout",
     "output_type": "stream",
     "text": [
      "[[-0.22473278  1.65123264]\n",
      " [-0.24931393  1.65123264]\n",
      " [-0.24931393  1.65123264]\n",
      " ...\n",
      " [ 1.16936999 -1.12831219]\n",
      " [-0.3862661   1.01951791]\n",
      " [-0.71460012 -1.76002692]]\n",
      "         Order_Demand\n",
      "0               100.0\n",
      "1               500.0\n",
      "2               500.0\n",
      "3               500.0\n",
      "4               500.0\n",
      "...               ...\n",
      "1048570        1000.0\n",
      "1048571           1.0\n",
      "1048572        2500.0\n",
      "1048573          50.0\n",
      "1048574           4.0\n",
      "\n",
      "[1048575 rows x 1 columns]\n"
     ]
    }
   ],
   "source": [
    "from sklearn.preprocessing import LabelEncoder\n",
    "encoder = LabelEncoder()\n",
    "\n",
    "df[\"Product_Code\"] = encoder.fit_transform(df[\"Product_Code\"])\n",
    "df[\"Product_Category\"] = encoder.fit_transform(df[\"Product_Category\"])\n",
    "\n",
    "from sklearn.preprocessing import StandardScaler\n",
    "features = [\"Product_Code\",\"Product_Category\"]\n",
    "X = df[features]\n",
    "\n",
    "y = df[[\"Order_Demand\"]].replace({'\\(':'-', '\\)':''}, regex=True).astype(float)\n",
    "\n",
    "scaler = StandardScaler()\n",
    "X = scaler.fit_transform(X)\n",
    "\n",
    "print(X)\n",
    "print(y)\n",
    "\n"
   ]
  },
  {
   "cell_type": "markdown",
   "metadata": {},
   "source": [
    "# Split the Data\n",
    "\n",
    "Split your data as follows:\n",
    "- 80% training set\n",
    "- 10% validation set\n",
    "- 10% test set"
   ]
  },
  {
   "cell_type": "code",
   "execution_count": 4,
   "metadata": {},
   "outputs": [
    {
     "name": "stdout",
     "output_type": "stream",
     "text": [
      "len(X_train): 838860\n",
      "len(y_train): 838860\n",
      "len(X_test): 104858\n",
      "len(y_test): 104858\n",
      "len(X_validate): 104857\n",
      "len(y_validate): 104857\n"
     ]
    }
   ],
   "source": [
    "from sklearn.model_selection import train_test_split\n",
    "\n",
    "X_train, X_test, y_train, y_test = train_test_split(X, y, test_size=0.2, random_state=0)\n",
    "X_validate, X_test, y_validate, y_test = train_test_split(X_test, y_test, test_size=0.5, random_state=0)\n",
    "\n",
    "print('len(X_train):', len(X_train))\n",
    "print('len(y_train):', len(y_train))\n",
    "print('len(X_test):', len(X_test))\n",
    "print('len(y_test):', len(y_test))\n",
    "print('len(X_validate):', len(X_validate))\n",
    "print('len(y_validate):', len(y_validate))\n",
    "\n"
   ]
  },
  {
   "cell_type": "markdown",
   "metadata": {},
   "source": [
    "# Training K-Nearest Neighbor (KNN) Regression\n",
    "\n",
    "Use a KNN regressor model to train your data.\n",
    "\n",
    "Choose the best k for the KNN algorithm by trying different values and validating performance on the validation set.\n",
    "\n",
    "Regression Metrics\n",
    "\n",
    "Print the R-squared score of your final KNN regressor."
   ]
  },
  {
   "cell_type": "code",
   "execution_count": 5,
   "metadata": {},
   "outputs": [
    {
     "name": "stdout",
     "output_type": "stream",
     "text": [
      "Best K: 83\n",
      "Best Score: 0.15619740766217638\n"
     ]
    }
   ],
   "source": [
    "from sklearn.neighbors import KNeighborsRegressor\n",
    "\n",
    "# K = 8\n",
    "# model = KNeighborsRegressor(n_neighbors=K)\n",
    "# model.fit(X_train, y_train)\n",
    "# score = model.score(X_test, y_test)\n",
    "\n",
    "# print('Score before optimizing K:',score)\n",
    "\n",
    "bestK = 1\n",
    "scores = []\n",
    "bestScore = 0\n",
    "\n",
    "\n",
    "krange = range(1, 100)\n",
    "for i in krange:\n",
    "    KNRmodel = KNeighborsRegressor(n_neighbors=i)\n",
    "    KNRmodel.fit(X_train, y_train)\n",
    "    KNRscore = KNRmodel.score(X_test, y_test)\n",
    "    scores.append(KNRscore)\n",
    "    if KNRscore > bestScore:\n",
    "        bestScore = KNRscore\n",
    "        bestK = i\n",
    "\n",
    "print('Best K:', bestK)\n",
    "print('Best Score:', bestScore)\n",
    "\n",
    "    \n",
    "\n",
    "\n",
    "\n"
   ]
  },
  {
   "cell_type": "code",
   "execution_count": 8,
   "metadata": {},
   "outputs": [
    {
     "data": {
      "text/plain": [
       "[<matplotlib.lines.Line2D at 0x1d86e89d810>]"
      ]
     },
     "execution_count": 8,
     "metadata": {},
     "output_type": "execute_result"
    },
    {
     "data": {
      "image/png": "[encoded data removed]",
      "text/plain": [
       "<Figure size 640x480 with 1 Axes>"
      ]
     },
     "metadata": {},
     "output_type": "display_data"
    }
   ],
   "source": [
    "import matplotlib.pyplot as plt\n",
    "\n",
    "plt.plot(krange, scores)"
   ]
  },
  {
   "cell_type": "code",
   "execution_count": 10,
   "metadata": {},
   "outputs": [
    {
     "name": "stdout",
     "output_type": "stream",
     "text": [
      "Accuracy: 0.15619740766217638\n",
      "MSE: 668804742.4604971\n"
     ]
    }
   ],
   "source": [
    "K = 83\n",
    "model = KNeighborsRegressor(n_neighbors=K)\n",
    "model.fit(X_train, y_train)\n",
    "score = model.score(X_test, y_test)\n",
    "\n",
    "y_pred = model.predict(X_validate)\n",
    "\n",
    "from sklearn.metrics import mean_squared_error\n",
    "\n",
    "print('Accuracy:', score)\n",
    "print('MSE:',mean_squared_error(y_validate, y_pred))\n"
   ]
  }
 ],
 "metadata": {
  "kernelspec": {
   "display_name": "wcs_python",
   "language": "python",
   "name": "python3"
  },
  "language_info": {
   "codemirror_mode": {
    "name": "ipython",
    "version": 3
   },
   "file_extension": ".py",
   "mimetype": "text/x-python",
   "name": "python",
   "nbconvert_exporter": "python",
   "pygments_lexer": "ipython3",
   "version": "3.13.0"
  }
 },
 "nbformat": 4,
 "nbformat_minor": 2
}
